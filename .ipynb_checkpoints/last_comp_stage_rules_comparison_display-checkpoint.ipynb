{
 "cells": [
  {
   "cell_type": "code",
   "execution_count": 4,
   "id": "dd5e7ee8-aa89-4463-99b1-5131498f2b07",
   "metadata": {},
   "outputs": [],
   "source": [
    "%load_ext autoreload\n",
    "%autoreload 2"
   ]
  },
  {
   "cell_type": "code",
   "execution_count": 16,
   "id": "1c33ea9d-cdb1-4f1b-9fc5-f6d5b7c8b784",
   "metadata": {},
   "outputs": [
    {
     "name": "stderr",
     "output_type": "stream",
     "text": [
      "/var/folders/vk/xk_zxsvx1f147jxwldrwb8nh0000gn/T/ipykernel_52595/2824220963.py:1: DeprecationWarning: Importing display from IPython.core.display is deprecated since IPython 7.14, please import from IPython display\n",
      "  from IPython.core.display import display, HTML\n"
     ]
    },
    {
     "data": {
      "text/html": [
       "<style>.container { width:100% !important; height: 20em; }</style>"
      ],
      "text/plain": [
       "<IPython.core.display.HTML object>"
      ]
     },
     "metadata": {},
     "output_type": "display_data"
    }
   ],
   "source": [
    "from IPython.core.display import display, HTML\n",
    "display(HTML(\"<style>.container { width:100% !important; height: 20em; }</style>\"))"
   ]
  },
  {
   "cell_type": "code",
   "execution_count": 5,
   "id": "2756357e-62a8-4fe9-8001-fc9eaa3b4bd2",
   "metadata": {},
   "outputs": [],
   "source": [
    "from experiments.last_comp_stage_rules_comparison_display import display_experiment_results"
   ]
  },
  {
   "cell_type": "code",
   "execution_count": null,
   "id": "e513ca52-f36b-4a41-a2cc-612328db2d00",
   "metadata": {},
   "outputs": [],
   "source": [
    "# original experiment\n",
    "display_experiment_results(experiment_id='31c504ea05c643e88433bc22474dd159')"
   ]
  },
  {
   "cell_type": "code",
   "execution_count": null,
   "id": "aa32ef9b-60b3-4487-a922-b6e761db5238",
   "metadata": {},
   "outputs": [],
   "source": [
    "# additions experiment\n",
    "display_experiment_results(experiment_id='1fe8411577c04f028a0e759bfa0b870c')"
   ]
  }
 ],
 "metadata": {
  "kernelspec": {
   "display_name": "Python 3 (ipykernel)",
   "language": "python",
   "name": "python3"
  },
  "language_info": {
   "codemirror_mode": {
    "name": "ipython",
    "version": 3
   },
   "file_extension": ".py",
   "mimetype": "text/x-python",
   "name": "python",
   "nbconvert_exporter": "python",
   "pygments_lexer": "ipython3",
   "version": "3.9.6"
  }
 },
 "nbformat": 4,
 "nbformat_minor": 5
}
