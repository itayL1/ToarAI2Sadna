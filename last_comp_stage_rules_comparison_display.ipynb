{
 "cells": [
  {
   "cell_type": "code",
   "execution_count": 1,
   "id": "dd5e7ee8-aa89-4463-99b1-5131498f2b07",
   "metadata": {},
   "outputs": [],
   "source": [
    "%load_ext autoreload\n",
    "%autoreload 2"
   ]
  },
  {
   "cell_type": "code",
   "execution_count": 2,
   "id": "1c33ea9d-cdb1-4f1b-9fc5-f6d5b7c8b784",
   "metadata": {
    "scrolled": true
   },
   "outputs": [
    {
     "name": "stderr",
     "output_type": "stream",
     "text": [
      "/var/folders/r8/rwz6rs6s6kl_fzv2pbd3_z0w0000gn/T/ipykernel_3230/2824220963.py:1: DeprecationWarning: Importing display from IPython.core.display is deprecated since IPython 7.14, please import from IPython display\n",
      "  from IPython.core.display import display, HTML\n"
     ]
    },
    {
     "data": {
      "text/html": [
       "<style>.container { width:100% !important; height: 20em; }</style>"
      ],
      "text/plain": [
       "<IPython.core.display.HTML object>"
      ]
     },
     "metadata": {},
     "output_type": "display_data"
    }
   ],
   "source": [
    "from IPython.core.display import display, HTML\n",
    "display(HTML(\"<style>.container { width:100% !important; height: 20em; }</style>\"))"
   ]
  },
  {
   "cell_type": "code",
   "execution_count": 3,
   "id": "2756357e-62a8-4fe9-8001-fc9eaa3b4bd2",
   "metadata": {},
   "outputs": [],
   "source": [
    "from experiments.last_comp_stage_rules_comparison_display import display_experiment_results"
   ]
  },
  {
   "cell_type": "code",
   "execution_count": 28,
   "id": "e513ca52-f36b-4a41-a2cc-612328db2d00",
   "metadata": {},
   "outputs": [
    {
     "data": {
      "text/html": [
       "<h2>*** all dataset setups: ***</h2>"
      ],
      "text/plain": [
       "<IPython.core.display.HTML object>"
      ]
     },
     "metadata": {},
     "output_type": "display_data"
    },
    {
     "name": "stderr",
     "output_type": "stream",
     "text": [
      "/Users/itaylotan/git/ToarAI2Sadna/experiments/last_comp_stage_rules_comparison_display.py:75: PerformanceWarning: dropping on a non-lexsorted multi-index without a level parameter may impact performance.\n",
      "  \n"
     ]
    },
    {
     "data": {
      "text/html": [
       "<div>\n",
       "<style scoped>\n",
       "    .dataframe tbody tr th:only-of-type {\n",
       "        vertical-align: middle;\n",
       "    }\n",
       "\n",
       "    .dataframe tbody tr th {\n",
       "        vertical-align: top;\n",
       "    }\n",
       "\n",
       "    .dataframe thead tr th {\n",
       "        text-align: left;\n",
       "    }\n",
       "</style>\n",
       "<table border=\"1\" class=\"dataframe\">\n",
       "  <thead>\n",
       "    <tr>\n",
       "      <th></th>\n",
       "      <th>voters_model</th>\n",
       "      <th>number_voters</th>\n",
       "      <th>number_candidates</th>\n",
       "      <th>distortion_ratio</th>\n",
       "      <th>topn_perc</th>\n",
       "      <th>topn_actual</th>\n",
       "      <th>rule_name</th>\n",
       "      <th>score_mean</th>\n",
       "      <th>score_std</th>\n",
       "    </tr>\n",
       "    <tr>\n",
       "      <th></th>\n",
       "      <th></th>\n",
       "      <th></th>\n",
       "      <th></th>\n",
       "      <th></th>\n",
       "      <th></th>\n",
       "      <th></th>\n",
       "      <th></th>\n",
       "      <th></th>\n",
       "      <th></th>\n",
       "    </tr>\n",
       "  </thead>\n",
       "  <tbody>\n",
       "    <tr>\n",
       "      <th>0</th>\n",
       "      <td>gaussian</td>\n",
       "      <td>500</td>\n",
       "      <td>5</td>\n",
       "      <td>0.1</td>\n",
       "      <td>20</td>\n",
       "      <td>1</td>\n",
       "      <td>borda</td>\n",
       "      <td>500.000000</td>\n",
       "      <td>0.000000</td>\n",
       "    </tr>\n",
       "    <tr>\n",
       "      <th>1</th>\n",
       "      <td>gaussian</td>\n",
       "      <td>500</td>\n",
       "      <td>5</td>\n",
       "      <td>0.1</td>\n",
       "      <td>20</td>\n",
       "      <td>1</td>\n",
       "      <td>borda_gamma_0.25</td>\n",
       "      <td>500.000000</td>\n",
       "      <td>0.000000</td>\n",
       "    </tr>\n",
       "    <tr>\n",
       "      <th>2</th>\n",
       "      <td>gaussian</td>\n",
       "      <td>500</td>\n",
       "      <td>5</td>\n",
       "      <td>0.1</td>\n",
       "      <td>20</td>\n",
       "      <td>1</td>\n",
       "      <td>borda_gamma_0.6</td>\n",
       "      <td>500.000000</td>\n",
       "      <td>0.000000</td>\n",
       "    </tr>\n",
       "    <tr>\n",
       "      <th>3</th>\n",
       "      <td>gaussian</td>\n",
       "      <td>500</td>\n",
       "      <td>5</td>\n",
       "      <td>0.1</td>\n",
       "      <td>20</td>\n",
       "      <td>1</td>\n",
       "      <td>borda_gamma_0.65</td>\n",
       "      <td>500.000000</td>\n",
       "      <td>0.000000</td>\n",
       "    </tr>\n",
       "    <tr>\n",
       "      <th>4</th>\n",
       "      <td>gaussian</td>\n",
       "      <td>500</td>\n",
       "      <td>5</td>\n",
       "      <td>0.1</td>\n",
       "      <td>20</td>\n",
       "      <td>1</td>\n",
       "      <td>borda_gamma_0.7</td>\n",
       "      <td>500.000000</td>\n",
       "      <td>0.000000</td>\n",
       "    </tr>\n",
       "    <tr>\n",
       "      <th>...</th>\n",
       "      <td>...</td>\n",
       "      <td>...</td>\n",
       "      <td>...</td>\n",
       "      <td>...</td>\n",
       "      <td>...</td>\n",
       "      <td>...</td>\n",
       "      <td>...</td>\n",
       "      <td>...</td>\n",
       "      <td>...</td>\n",
       "    </tr>\n",
       "    <tr>\n",
       "      <th>11035</th>\n",
       "      <td>random</td>\n",
       "      <td>10000</td>\n",
       "      <td>40</td>\n",
       "      <td>0.9</td>\n",
       "      <td>80</td>\n",
       "      <td>32</td>\n",
       "      <td>plurality</td>\n",
       "      <td>20632.511667</td>\n",
       "      <td>62.209756</td>\n",
       "    </tr>\n",
       "    <tr>\n",
       "      <th>11036</th>\n",
       "      <td>random</td>\n",
       "      <td>10000</td>\n",
       "      <td>40</td>\n",
       "      <td>0.9</td>\n",
       "      <td>80</td>\n",
       "      <td>32</td>\n",
       "      <td>random</td>\n",
       "      <td>20511.651667</td>\n",
       "      <td>59.769336</td>\n",
       "    </tr>\n",
       "    <tr>\n",
       "      <th>11037</th>\n",
       "      <td>random</td>\n",
       "      <td>10000</td>\n",
       "      <td>40</td>\n",
       "      <td>0.9</td>\n",
       "      <td>80</td>\n",
       "      <td>32</td>\n",
       "      <td>simpson</td>\n",
       "      <td>20495.430000</td>\n",
       "      <td>40.225415</td>\n",
       "    </tr>\n",
       "    <tr>\n",
       "      <th>11038</th>\n",
       "      <td>random</td>\n",
       "      <td>10000</td>\n",
       "      <td>40</td>\n",
       "      <td>0.9</td>\n",
       "      <td>80</td>\n",
       "      <td>32</td>\n",
       "      <td>stv_rule_elishay</td>\n",
       "      <td>20631.955000</td>\n",
       "      <td>62.624277</td>\n",
       "    </tr>\n",
       "    <tr>\n",
       "      <th>11039</th>\n",
       "      <td>random</td>\n",
       "      <td>10000</td>\n",
       "      <td>40</td>\n",
       "      <td>0.9</td>\n",
       "      <td>80</td>\n",
       "      <td>32</td>\n",
       "      <td>veto</td>\n",
       "      <td>20822.356667</td>\n",
       "      <td>34.729585</td>\n",
       "    </tr>\n",
       "  </tbody>\n",
       "</table>\n",
       "<p>11040 rows × 9 columns</p>\n",
       "</div>"
      ],
      "text/plain": [
       "      voters_model number_voters number_candidates distortion_ratio topn_perc   \n",
       "                                                                                \n",
       "0         gaussian           500                 5              0.1        20  \\\n",
       "1         gaussian           500                 5              0.1        20   \n",
       "2         gaussian           500                 5              0.1        20   \n",
       "3         gaussian           500                 5              0.1        20   \n",
       "4         gaussian           500                 5              0.1        20   \n",
       "...            ...           ...               ...              ...       ...   \n",
       "11035       random         10000                40              0.9        80   \n",
       "11036       random         10000                40              0.9        80   \n",
       "11037       random         10000                40              0.9        80   \n",
       "11038       random         10000                40              0.9        80   \n",
       "11039       random         10000                40              0.9        80   \n",
       "\n",
       "      topn_actual         rule_name    score_mean  score_std  \n",
       "                                                              \n",
       "0               1             borda    500.000000   0.000000  \n",
       "1               1  borda_gamma_0.25    500.000000   0.000000  \n",
       "2               1   borda_gamma_0.6    500.000000   0.000000  \n",
       "3               1  borda_gamma_0.65    500.000000   0.000000  \n",
       "4               1   borda_gamma_0.7    500.000000   0.000000  \n",
       "...           ...               ...           ...        ...  \n",
       "11035          32         plurality  20632.511667  62.209756  \n",
       "11036          32            random  20511.651667  59.769336  \n",
       "11037          32           simpson  20495.430000  40.225415  \n",
       "11038          32  stv_rule_elishay  20631.955000  62.624277  \n",
       "11039          32              veto  20822.356667  34.729585  \n",
       "\n",
       "[11040 rows x 9 columns]"
      ]
     },
     "metadata": {},
     "output_type": "display_data"
    }
   ],
   "source": [
    "# original experiment\n",
    "display_experiment_results(experiment_id='06d7546459494be9b40ebc6bd2de59b8')"
   ]
  },
  {
   "cell_type": "code",
   "execution_count": 29,
   "id": "fc71ce80-cedb-4055-be59-d5acb32e5776",
   "metadata": {},
   "outputs": [],
   "source": [
    "import pandas as pd\n",
    "\n",
    "df = pd.read_csv('/Users/itaylotan/git/ToarAI2Sadna/experiments/results/06d7546459494be9b40ebc6bd2de59b8/results.csv')"
   ]
  },
  {
   "cell_type": "code",
   "execution_count": 30,
   "id": "af96f135-de7b-4d56-a741-cad66a7eb8a3",
   "metadata": {
    "scrolled": true
   },
   "outputs": [
    {
     "data": {
      "text/plain": [
       "(165600, 9)"
      ]
     },
     "execution_count": 30,
     "metadata": {},
     "output_type": "execute_result"
    }
   ],
   "source": [
    "df.shape"
   ]
  }
 ],
 "metadata": {
  "kernelspec": {
   "display_name": "Python 3 (ipykernel)",
   "language": "python",
   "name": "python3"
  },
  "language_info": {
   "codemirror_mode": {
    "name": "ipython",
    "version": 3
   },
   "file_extension": ".py",
   "mimetype": "text/x-python",
   "name": "python",
   "nbconvert_exporter": "python",
   "pygments_lexer": "ipython3",
   "version": "3.11.3"
  }
 },
 "nbformat": 4,
 "nbformat_minor": 5
}
